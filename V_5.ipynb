{
  "nbformat": 4,
  "nbformat_minor": 0,
  "metadata": {
    "colab": {
      "name": "V_4.ipynb",
      "provenance": [],
      "collapsed_sections": []
    },
    "kernelspec": {
      "name": "python3",
      "display_name": "Python 3"
    },
    "language_info": {
      "name": "python"
    }
  },
  "cells": [
    {
      "cell_type": "markdown",
      "metadata": {
        "id": "h1IEh0QvRcVc"
      },
      "source": [
        "## Loading Elasticsearch\n",
        "\n",
        "In this section Elasticsearch is installed on the colab machine and initialised. The scripts to be able to run it on Colab were provided by GitHub user [korakot](https://gist.github.com/korakot/15fe4f18d0e0f53d7b834ef797880500)."
      ]
    },
    {
      "cell_type": "code",
      "metadata": {
        "id": "z1olUNvZZTLJ",
        "colab": {
          "base_uri": "https://localhost:8080/"
        },
        "outputId": "2e5be096-ad90-450d-ca07-0ccda46ab70d"
      },
      "source": [
        "!wget https://artifacts.elastic.co/downloads/elasticsearch/elasticsearch-7.0.0-linux-x86_64.tar.gz -q # it's an older version of Elasticsearch, latest release being 7.13.4, couldn't make it run with that\n",
        "!tar -xzf elasticsearch-7.0.0-linux-x86_64.tar.gz\n",
        "!chown -R daemon:daemon elasticsearch-7.0.0\n",
        "!pip install elasticsearch -q"
      ],
      "execution_count": 1,
      "outputs": [
        {
          "output_type": "stream",
          "text": [
            "\u001b[?25l\r\u001b[K     |█                               | 10 kB 25.7 MB/s eta 0:00:01\r\u001b[K     |█▉                              | 20 kB 31.6 MB/s eta 0:00:01\r\u001b[K     |██▊                             | 30 kB 27.7 MB/s eta 0:00:01\r\u001b[K     |███▊                            | 40 kB 22.3 MB/s eta 0:00:01\r\u001b[K     |████▋                           | 51 kB 9.6 MB/s eta 0:00:01\r\u001b[K     |█████▌                          | 61 kB 9.9 MB/s eta 0:00:01\r\u001b[K     |██████▍                         | 71 kB 9.6 MB/s eta 0:00:01\r\u001b[K     |███████▍                        | 81 kB 9.5 MB/s eta 0:00:01\r\u001b[K     |████████▎                       | 92 kB 9.8 MB/s eta 0:00:01\r\u001b[K     |█████████▏                      | 102 kB 8.8 MB/s eta 0:00:01\r\u001b[K     |██████████▏                     | 112 kB 8.8 MB/s eta 0:00:01\r\u001b[K     |███████████                     | 122 kB 8.8 MB/s eta 0:00:01\r\u001b[K     |████████████                    | 133 kB 8.8 MB/s eta 0:00:01\r\u001b[K     |████████████▉                   | 143 kB 8.8 MB/s eta 0:00:01\r\u001b[K     |█████████████▉                  | 153 kB 8.8 MB/s eta 0:00:01\r\u001b[K     |██████████████▊                 | 163 kB 8.8 MB/s eta 0:00:01\r\u001b[K     |███████████████▋                | 174 kB 8.8 MB/s eta 0:00:01\r\u001b[K     |████████████████▌               | 184 kB 8.8 MB/s eta 0:00:01\r\u001b[K     |█████████████████▌              | 194 kB 8.8 MB/s eta 0:00:01\r\u001b[K     |██████████████████▍             | 204 kB 8.8 MB/s eta 0:00:01\r\u001b[K     |███████████████████▎            | 215 kB 8.8 MB/s eta 0:00:01\r\u001b[K     |████████████████████▎           | 225 kB 8.8 MB/s eta 0:00:01\r\u001b[K     |█████████████████████▏          | 235 kB 8.8 MB/s eta 0:00:01\r\u001b[K     |██████████████████████          | 245 kB 8.8 MB/s eta 0:00:01\r\u001b[K     |███████████████████████         | 256 kB 8.8 MB/s eta 0:00:01\r\u001b[K     |████████████████████████        | 266 kB 8.8 MB/s eta 0:00:01\r\u001b[K     |████████████████████████▉       | 276 kB 8.8 MB/s eta 0:00:01\r\u001b[K     |█████████████████████████▊      | 286 kB 8.8 MB/s eta 0:00:01\r\u001b[K     |██████████████████████████▊     | 296 kB 8.8 MB/s eta 0:00:01\r\u001b[K     |███████████████████████████▋    | 307 kB 8.8 MB/s eta 0:00:01\r\u001b[K     |████████████████████████████▌   | 317 kB 8.8 MB/s eta 0:00:01\r\u001b[K     |█████████████████████████████▍  | 327 kB 8.8 MB/s eta 0:00:01\r\u001b[K     |██████████████████████████████▍ | 337 kB 8.8 MB/s eta 0:00:01\r\u001b[K     |███████████████████████████████▎| 348 kB 8.8 MB/s eta 0:00:01\r\u001b[K     |████████████████████████████████| 356 kB 8.8 MB/s \n",
            "\u001b[?25h"
          ],
          "name": "stdout"
        }
      ]
    },
    {
      "cell_type": "code",
      "metadata": {
        "id": "knimUjvmIhPw"
      },
      "source": [
        "import os\n",
        "from subprocess import Popen, PIPE, STDOUT"
      ],
      "execution_count": 2,
      "outputs": []
    },
    {
      "cell_type": "markdown",
      "metadata": {
        "id": "E0GtK4ybSjEX"
      },
      "source": [
        "This cell runs Elasticsearch in the hosted runtime machine."
      ]
    },
    {
      "cell_type": "code",
      "metadata": {
        "id": "qNW2Kk9tI014"
      },
      "source": [
        "es_server = Popen(['elasticsearch-7.0.0/bin/elasticsearch'], \n",
        "                  stdout=PIPE, stderr=STDOUT,\n",
        "                  preexec_fn=lambda: os.setuid(1)  # as daemon\n",
        "                 )\n"
      ],
      "execution_count": 3,
      "outputs": []
    },
    {
      "cell_type": "markdown",
      "metadata": {
        "id": "NOm0OoNoLwmN"
      },
      "source": [
        "The next command is using [cURL](https://curl.se/), which is used as a REST API to communicate with the Elasticsearch client. In this case it is adapting te request in query DSL (Elasticsearch's proprietary language). It's just checking if Elasticsearch is running locally (in the google machine in this case) by querying its default port (`localhost:9200`)"
      ]
    },
    {
      "cell_type": "code",
      "metadata": {
        "colab": {
          "base_uri": "https://localhost:8080/"
        },
        "id": "WfQzDF1vLIj8",
        "outputId": "88f114d7-04ff-4e62-d49e-5a1114b24405"
      },
      "source": [
        "!curl -X GET \"localhost:9200/\" "
      ],
      "execution_count": 4,
      "outputs": [
        {
          "output_type": "stream",
          "text": [
            "curl: (7) Failed to connect to localhost port 9200: Connection refused\n"
          ],
          "name": "stdout"
        }
      ]
    },
    {
      "cell_type": "code",
      "metadata": {
        "id": "IFlZo7UCJBLP"
      },
      "source": [
        "from elasticsearch import Elasticsearch"
      ],
      "execution_count": 5,
      "outputs": []
    },
    {
      "cell_type": "code",
      "metadata": {
        "colab": {
          "base_uri": "https://localhost:8080/"
        },
        "id": "KnZDHGBbKXdh",
        "outputId": "b218e407-e944-4140-fadc-d36e4ab19462"
      },
      "source": [
        "es = Elasticsearch()\n",
        "es.ping() # another way to test whether ES is running, returns True if so"
      ],
      "execution_count": 6,
      "outputs": [
        {
          "output_type": "execute_result",
          "data": {
            "text/plain": [
              "False"
            ]
          },
          "metadata": {
            "tags": []
          },
          "execution_count": 6
        }
      ]
    },
    {
      "cell_type": "markdown",
      "metadata": {
        "id": "ELZrLiy8TG3H"
      },
      "source": [
        "Elasticsearch should be running fine. Before creating an index, it is worth it to preprocess the data.\n",
        "\n",
        "## Preprocessing"
      ]
    },
    {
      "cell_type": "code",
      "metadata": {
        "colab": {
          "base_uri": "https://localhost:8080/"
        },
        "id": "EQhNcdQrUjTv",
        "outputId": "1e90bec3-70f0-4299-a82a-0bd9ceafd90b"
      },
      "source": [
        "import pandas as pd\n",
        "import numpy as np\n",
        "import nltk\n",
        "import re\n",
        "from nltk.stem import SnowballStemmer\n",
        "from nltk.stem import WordNetLemmatizer\n",
        "from nltk.corpus import stopwords\n",
        "nltk.download('wordnet')\n",
        "nltk.download('stopwords')"
      ],
      "execution_count": 7,
      "outputs": [
        {
          "output_type": "stream",
          "text": [
            "[nltk_data] Downloading package wordnet to /root/nltk_data...\n",
            "[nltk_data]   Unzipping corpora/wordnet.zip.\n",
            "[nltk_data] Downloading package stopwords to /root/nltk_data...\n",
            "[nltk_data]   Unzipping corpora/stopwords.zip.\n"
          ],
          "name": "stdout"
        },
        {
          "output_type": "execute_result",
          "data": {
            "text/plain": [
              "True"
            ]
          },
          "metadata": {
            "tags": []
          },
          "execution_count": 7
        }
      ]
    },
    {
      "cell_type": "markdown",
      "metadata": {
        "id": "XPP75OSsUwLy"
      },
      "source": [
        "Next cell loads the dataset. It is available on [Kaggle](https://www.kaggle.com/ashishgup/netflix-rotten-tomatoes-metacritic-imdb), it is currently being updated to the local runtime directly as using code to download it directly requires a personal Kaggle API  token."
      ]
    },
    {
      "cell_type": "code",
      "metadata": {
        "colab": {
          "base_uri": "https://localhost:8080/",
          "height": 632
        },
        "id": "tPunLNZjUqGf",
        "outputId": "cf483b2f-437b-48a4-fd6d-1995422b09cb"
      },
      "source": [
        "films = pd.read_csv(\"netflix-rotten-tomatoes-metacritic-imdb.csv\")\n",
        "films.head()"
      ],
      "execution_count": 8,
      "outputs": [
        {
          "output_type": "execute_result",
          "data": {
            "text/html": [
              "<div>\n",
              "<style scoped>\n",
              "    .dataframe tbody tr th:only-of-type {\n",
              "        vertical-align: middle;\n",
              "    }\n",
              "\n",
              "    .dataframe tbody tr th {\n",
              "        vertical-align: top;\n",
              "    }\n",
              "\n",
              "    .dataframe thead th {\n",
              "        text-align: right;\n",
              "    }\n",
              "</style>\n",
              "<table border=\"1\" class=\"dataframe\">\n",
              "  <thead>\n",
              "    <tr style=\"text-align: right;\">\n",
              "      <th></th>\n",
              "      <th>Title</th>\n",
              "      <th>Genre</th>\n",
              "      <th>Tags</th>\n",
              "      <th>Languages</th>\n",
              "      <th>Series or Movie</th>\n",
              "      <th>Hidden Gem Score</th>\n",
              "      <th>Country Availability</th>\n",
              "      <th>Runtime</th>\n",
              "      <th>Director</th>\n",
              "      <th>Writer</th>\n",
              "      <th>Actors</th>\n",
              "      <th>View Rating</th>\n",
              "      <th>IMDb Score</th>\n",
              "      <th>Rotten Tomatoes Score</th>\n",
              "      <th>Metacritic Score</th>\n",
              "      <th>Awards Received</th>\n",
              "      <th>Awards Nominated For</th>\n",
              "      <th>Boxoffice</th>\n",
              "      <th>Release Date</th>\n",
              "      <th>Netflix Release Date</th>\n",
              "      <th>Production House</th>\n",
              "      <th>Netflix Link</th>\n",
              "      <th>IMDb Link</th>\n",
              "      <th>Summary</th>\n",
              "      <th>IMDb Votes</th>\n",
              "      <th>Image</th>\n",
              "      <th>Poster</th>\n",
              "      <th>TMDb Trailer</th>\n",
              "      <th>Trailer Site</th>\n",
              "    </tr>\n",
              "  </thead>\n",
              "  <tbody>\n",
              "    <tr>\n",
              "      <th>0</th>\n",
              "      <td>Lets Fight Ghost</td>\n",
              "      <td>Crime, Drama, Fantasy, Horror, Romance</td>\n",
              "      <td>Comedy Programmes,Romantic TV Comedies,Horror ...</td>\n",
              "      <td>Swedish, Spanish</td>\n",
              "      <td>Series</td>\n",
              "      <td>4.3</td>\n",
              "      <td>Thailand</td>\n",
              "      <td>&lt; 30 minutes</td>\n",
              "      <td>Tomas Alfredson</td>\n",
              "      <td>John Ajvide Lindqvist</td>\n",
              "      <td>Kåre Hedebrant, Per Ragnar, Lina Leandersson, ...</td>\n",
              "      <td>R</td>\n",
              "      <td>7.9</td>\n",
              "      <td>98.0</td>\n",
              "      <td>82.0</td>\n",
              "      <td>74.0</td>\n",
              "      <td>57.0</td>\n",
              "      <td>$2,122,065</td>\n",
              "      <td>12 Dec 2008</td>\n",
              "      <td>2021-03-04</td>\n",
              "      <td>Canal+, Sandrew Metronome</td>\n",
              "      <td>https://www.netflix.com/watch/81415947</td>\n",
              "      <td>https://www.imdb.com/title/tt1139797</td>\n",
              "      <td>A med student with a supernatural gift tries t...</td>\n",
              "      <td>205926.0</td>\n",
              "      <td>https://occ-0-4708-64.1.nflxso.net/dnm/api/v6/...</td>\n",
              "      <td>https://m.media-amazon.com/images/M/MV5BOWM4NT...</td>\n",
              "      <td>NaN</td>\n",
              "      <td>NaN</td>\n",
              "    </tr>\n",
              "    <tr>\n",
              "      <th>1</th>\n",
              "      <td>HOW TO BUILD A GIRL</td>\n",
              "      <td>Comedy</td>\n",
              "      <td>Dramas,Comedies,Films Based on Books,British</td>\n",
              "      <td>English</td>\n",
              "      <td>Movie</td>\n",
              "      <td>7.0</td>\n",
              "      <td>Canada</td>\n",
              "      <td>1-2 hour</td>\n",
              "      <td>Coky Giedroyc</td>\n",
              "      <td>Caitlin Moran</td>\n",
              "      <td>Paddy Considine, Cleo, Beanie Feldstein, Dónal...</td>\n",
              "      <td>R</td>\n",
              "      <td>5.8</td>\n",
              "      <td>79.0</td>\n",
              "      <td>69.0</td>\n",
              "      <td>1.0</td>\n",
              "      <td>NaN</td>\n",
              "      <td>$70,632</td>\n",
              "      <td>08 May 2020</td>\n",
              "      <td>2021-03-04</td>\n",
              "      <td>Film 4, Monumental Pictures, Lionsgate</td>\n",
              "      <td>https://www.netflix.com/watch/81041267</td>\n",
              "      <td>https://www.imdb.com/title/tt4193072</td>\n",
              "      <td>When nerdy Johanna moves to London, things get...</td>\n",
              "      <td>2838.0</td>\n",
              "      <td>https://occ-0-1081-999.1.nflxso.net/dnm/api/v6...</td>\n",
              "      <td>https://m.media-amazon.com/images/M/MV5BZGUyN2...</td>\n",
              "      <td>https://www.youtube.com/watch?v=eIbcxPy4okQ</td>\n",
              "      <td>YouTube</td>\n",
              "    </tr>\n",
              "    <tr>\n",
              "      <th>2</th>\n",
              "      <td>Centigrade</td>\n",
              "      <td>Drama, Thriller</td>\n",
              "      <td>Thrillers</td>\n",
              "      <td>English</td>\n",
              "      <td>Movie</td>\n",
              "      <td>6.4</td>\n",
              "      <td>Canada</td>\n",
              "      <td>1-2 hour</td>\n",
              "      <td>Brendan Walsh</td>\n",
              "      <td>Brendan Walsh, Daley Nixon</td>\n",
              "      <td>Genesis Rodriguez, Vincent Piazza</td>\n",
              "      <td>Unrated</td>\n",
              "      <td>4.3</td>\n",
              "      <td>NaN</td>\n",
              "      <td>46.0</td>\n",
              "      <td>NaN</td>\n",
              "      <td>NaN</td>\n",
              "      <td>$16,263</td>\n",
              "      <td>28 Aug 2020</td>\n",
              "      <td>2021-03-04</td>\n",
              "      <td>NaN</td>\n",
              "      <td>https://www.netflix.com/watch/81305978</td>\n",
              "      <td>https://www.imdb.com/title/tt8945942</td>\n",
              "      <td>Trapped in a frozen car during a blizzard, a p...</td>\n",
              "      <td>1720.0</td>\n",
              "      <td>https://occ-0-1081-999.1.nflxso.net/dnm/api/v6...</td>\n",
              "      <td>https://m.media-amazon.com/images/M/MV5BODM2MD...</td>\n",
              "      <td>https://www.youtube.com/watch?v=0RvV7TNUlkQ</td>\n",
              "      <td>YouTube</td>\n",
              "    </tr>\n",
              "    <tr>\n",
              "      <th>3</th>\n",
              "      <td>ANNE+</td>\n",
              "      <td>Drama</td>\n",
              "      <td>TV Dramas,Romantic TV Dramas,Dutch TV Shows</td>\n",
              "      <td>Turkish</td>\n",
              "      <td>Series</td>\n",
              "      <td>7.7</td>\n",
              "      <td>Belgium,Netherlands</td>\n",
              "      <td>&lt; 30 minutes</td>\n",
              "      <td>NaN</td>\n",
              "      <td>NaN</td>\n",
              "      <td>Vahide Perçin, Gonca Vuslateri, Cansu Dere, Be...</td>\n",
              "      <td>NaN</td>\n",
              "      <td>6.5</td>\n",
              "      <td>NaN</td>\n",
              "      <td>NaN</td>\n",
              "      <td>1.0</td>\n",
              "      <td>NaN</td>\n",
              "      <td>NaN</td>\n",
              "      <td>01 Oct 2016</td>\n",
              "      <td>2021-03-04</td>\n",
              "      <td>NaN</td>\n",
              "      <td>https://www.netflix.com/watch/81336456</td>\n",
              "      <td>https://www.imdb.com/title/tt6132758</td>\n",
              "      <td>Upon moving into a new place, a 20-something r...</td>\n",
              "      <td>1147.0</td>\n",
              "      <td>https://occ-0-1489-1490.1.nflxso.net/dnm/api/v...</td>\n",
              "      <td>https://m.media-amazon.com/images/M/MV5BNWRkMz...</td>\n",
              "      <td>NaN</td>\n",
              "      <td>NaN</td>\n",
              "    </tr>\n",
              "    <tr>\n",
              "      <th>4</th>\n",
              "      <td>Moxie</td>\n",
              "      <td>Animation, Short, Drama</td>\n",
              "      <td>Social Issue Dramas,Teen Movies,Dramas,Comedie...</td>\n",
              "      <td>English</td>\n",
              "      <td>Movie</td>\n",
              "      <td>8.1</td>\n",
              "      <td>Lithuania,Poland,France,Iceland,Italy,Spain,Gr...</td>\n",
              "      <td>1-2 hour</td>\n",
              "      <td>Stephen Irwin</td>\n",
              "      <td>NaN</td>\n",
              "      <td>Ragga Gudrun</td>\n",
              "      <td>NaN</td>\n",
              "      <td>6.3</td>\n",
              "      <td>NaN</td>\n",
              "      <td>NaN</td>\n",
              "      <td>NaN</td>\n",
              "      <td>4.0</td>\n",
              "      <td>NaN</td>\n",
              "      <td>22 Sep 2011</td>\n",
              "      <td>2021-03-04</td>\n",
              "      <td>NaN</td>\n",
              "      <td>https://www.netflix.com/watch/81078393</td>\n",
              "      <td>https://www.imdb.com/title/tt2023611</td>\n",
              "      <td>Inspired by her moms rebellious past and a con...</td>\n",
              "      <td>63.0</td>\n",
              "      <td>https://occ-0-4039-1500.1.nflxso.net/dnm/api/v...</td>\n",
              "      <td>https://m.media-amazon.com/images/M/MV5BODYyNW...</td>\n",
              "      <td>NaN</td>\n",
              "      <td>NaN</td>\n",
              "    </tr>\n",
              "  </tbody>\n",
              "</table>\n",
              "</div>"
            ],
            "text/plain": [
              "                 Title  ... Trailer Site\n",
              "0     Lets Fight Ghost  ...          NaN\n",
              "1  HOW TO BUILD A GIRL  ...      YouTube\n",
              "2           Centigrade  ...      YouTube\n",
              "3                ANNE+  ...          NaN\n",
              "4                Moxie  ...          NaN\n",
              "\n",
              "[5 rows x 29 columns]"
            ]
          },
          "metadata": {
            "tags": []
          },
          "execution_count": 8
        }
      ]
    },
    {
      "cell_type": "markdown",
      "metadata": {
        "id": "E7VHkmXLVXgK"
      },
      "source": [
        "The next cell contains the preprocessing functions."
      ]
    },
    {
      "cell_type": "code",
      "metadata": {
        "id": "XBZDk6F4VbSo"
      },
      "source": [
        "def query_processor(query):\n",
        "    query = re.sub(r\"(\\w)([.,;:!?'\\\"”\\)])\", r\"\\1 \\2\", query)\n",
        "    query = re.sub(r\"([.,;:!?'\\\"“\\(])(\\w)\", r\"\\1 \\2\", query)\n",
        "    query = re.sub(\"'\", \"\", query)\n",
        "    query = re.sub(\",\", \"\", query)\n",
        "    tokens = re.split(r\"\\s+\",query)\n",
        "    tokens = [t.lower() for t in tokens]\n",
        "    # Stemming with the SnowballStemmer for more efficiency\n",
        "    s_stemmer = SnowballStemmer(\"english\")\n",
        "    stemedList = []\n",
        "    for word in tokens:\n",
        "        stemedList.append(s_stemmer.stem(word))\n",
        "    tokens = stemedList\n",
        "    # Lemmatising the tokens\n",
        "    wordnet_lemmatiser = WordNetLemmatizer()\n",
        "    lemmaList = []\n",
        "    for word in stemedList:\n",
        "        lemmaList.append(wordnet_lemmatiser.lemmatize(word))\n",
        "    tokens = lemmaList\n",
        "    # Finally remove stopwords\n",
        "    stops = set(stopwords.words(\"english\"))\n",
        "    tokens = [word for word in tokens if not word in stops]\n",
        "    return tokens\n",
        "\n",
        "def dataset_processor(dataset):\n",
        "    dataset = dataset.drop(columns = [\"Trailer Site\", \"TMDb Trailer\", \"Poster\", \"Image\", \"IMDb Votes\", \"Netflix Link\", \"Production House\", \"Netflix Release Date\", \"Boxoffice\", \"Awards Received\", \"Awards Nominated For\", \"IMDb Link\", \"Runtime\", \"Country Availability\", \"View Rating\"])\n",
        "    dataset[\"Average Score\"] = dataset.apply(Average, axis = 1)\n",
        "    dataset = dataset.drop(columns = [\"Hidden Gem Score\", \"IMDb Score\", \"Rotten Tomatoes Score\", \"Metacritic Score\"])\n",
        "    dataset = dataset.astype({\"Title\":\"str\", \"Genre\":\"str\", \"Tags\":\"str\",\n",
        "                     \"Languages\":\"str\", \"Series or Movie\":\"category\",\n",
        "                     \"Director\":\"str\", \"Writer\":\"str\", \"Actors\":\"str\",\n",
        "                     \"Summary\":\"str\", \"Average Score\":\"float\"})\n",
        "    # So need to query processor the summary, genre list and tag list.\n",
        "    for i in [\"Summary\", \"Genre\", \"Tags\"]:\n",
        "      dataset[i] = dataset.loc[:, i].apply(query_processor)\n",
        "\n",
        "    # Need to turn the director, writer, languages, and actors into a list.\n",
        "    for i in [\"Director\", \"Languages\", \"Writer\", \"Actors\"]:\n",
        "      dataset[i] = dataset.loc[:,i].apply(Split)\n",
        "\n",
        "    # Change the release data to just the year\n",
        "    dataset[\"Release Date\"] = dataset[\"Release Date\"].apply(Year)\n",
        "    return dataset\n",
        "\n",
        "def Split(row):\n",
        "  tokens = re.split(\",\", row)\n",
        "  return tokens\n",
        "\n",
        "def Year(row):\n",
        "  tokens = re.split(\" \", str(row))\n",
        "  if tokens[0] == \"nan\":\n",
        "    return \"NaN\"\n",
        "  else:\n",
        "    return tokens[2]\n",
        "\n",
        "def Average(row):\n",
        "  scores = []\n",
        "  scorers = [\"Hidden Gem Score\", \"IMDb Score\", \"Rotten Tomatoes Score\", \"Metacritic Score\"]\n",
        "  potential = [10,10,100,100]\n",
        "  for i in range(len(scorers)):\n",
        "    if (np.isnan(row.loc[scorers[i]])) == False:\n",
        "      scores.append(row.loc[scorers[i]]/potential[i])\n",
        "  if len(scores) > 0:\n",
        "    return sum(scores)/len(scores)\n",
        "  else:\n",
        "    return \"NaN\""
      ],
      "execution_count": 9,
      "outputs": []
    },
    {
      "cell_type": "code",
      "metadata": {
        "colab": {
          "base_uri": "https://localhost:8080/",
          "height": 306
        },
        "id": "FR8Tg2AjVeV1",
        "outputId": "dba4287d-0f13-4928-9e38-fa1fdaf83c92"
      },
      "source": [
        "# preprocessing the dataset\n",
        "films = dataset_processor(films)\n",
        "films.head()"
      ],
      "execution_count": 10,
      "outputs": [
        {
          "output_type": "execute_result",
          "data": {
            "text/html": [
              "<div>\n",
              "<style scoped>\n",
              "    .dataframe tbody tr th:only-of-type {\n",
              "        vertical-align: middle;\n",
              "    }\n",
              "\n",
              "    .dataframe tbody tr th {\n",
              "        vertical-align: top;\n",
              "    }\n",
              "\n",
              "    .dataframe thead th {\n",
              "        text-align: right;\n",
              "    }\n",
              "</style>\n",
              "<table border=\"1\" class=\"dataframe\">\n",
              "  <thead>\n",
              "    <tr style=\"text-align: right;\">\n",
              "      <th></th>\n",
              "      <th>Title</th>\n",
              "      <th>Genre</th>\n",
              "      <th>Tags</th>\n",
              "      <th>Languages</th>\n",
              "      <th>Series or Movie</th>\n",
              "      <th>Director</th>\n",
              "      <th>Writer</th>\n",
              "      <th>Actors</th>\n",
              "      <th>Release Date</th>\n",
              "      <th>Summary</th>\n",
              "      <th>Average Score</th>\n",
              "    </tr>\n",
              "  </thead>\n",
              "  <tbody>\n",
              "    <tr>\n",
              "      <th>0</th>\n",
              "      <td>Lets Fight Ghost</td>\n",
              "      <td>[crime, drama, fantasi, horror, romanc]</td>\n",
              "      <td>[comedi, programm, romant, tv, comedi, horror,...</td>\n",
              "      <td>[Swedish,  Spanish]</td>\n",
              "      <td>Series</td>\n",
              "      <td>[Tomas Alfredson]</td>\n",
              "      <td>[John Ajvide Lindqvist]</td>\n",
              "      <td>[Kåre Hedebrant,  Per Ragnar,  Lina Leandersso...</td>\n",
              "      <td>2008</td>\n",
              "      <td>[med, student, supernatur, gift, tri, cash, ab...</td>\n",
              "      <td>0.755</td>\n",
              "    </tr>\n",
              "    <tr>\n",
              "      <th>1</th>\n",
              "      <td>HOW TO BUILD A GIRL</td>\n",
              "      <td>[comedi]</td>\n",
              "      <td>[drama, comedi, film, base, book, british]</td>\n",
              "      <td>[English]</td>\n",
              "      <td>Movie</td>\n",
              "      <td>[Coky Giedroyc]</td>\n",
              "      <td>[Caitlin Moran]</td>\n",
              "      <td>[Paddy Considine,  Cleo,  Beanie Feldstein,  D...</td>\n",
              "      <td>2020</td>\n",
              "      <td>[nerdi, johanna, move, london, thing, get, han...</td>\n",
              "      <td>0.690</td>\n",
              "    </tr>\n",
              "    <tr>\n",
              "      <th>2</th>\n",
              "      <td>Centigrade</td>\n",
              "      <td>[drama, thriller]</td>\n",
              "      <td>[thriller]</td>\n",
              "      <td>[English]</td>\n",
              "      <td>Movie</td>\n",
              "      <td>[Brendan Walsh]</td>\n",
              "      <td>[Brendan Walsh,  Daley Nixon]</td>\n",
              "      <td>[Genesis Rodriguez,  Vincent Piazza]</td>\n",
              "      <td>2020</td>\n",
              "      <td>[trap, frozen, car, dure, blizzard, pregnant, ...</td>\n",
              "      <td>0.510</td>\n",
              "    </tr>\n",
              "    <tr>\n",
              "      <th>3</th>\n",
              "      <td>ANNE+</td>\n",
              "      <td>[drama]</td>\n",
              "      <td>[tv, drama, romant, tv, drama, dutch, tv, show]</td>\n",
              "      <td>[Turkish]</td>\n",
              "      <td>Series</td>\n",
              "      <td>[nan]</td>\n",
              "      <td>[nan]</td>\n",
              "      <td>[Vahide Perçin,  Gonca Vuslateri,  Cansu Dere,...</td>\n",
              "      <td>2016</td>\n",
              "      <td>[upon, move, new, place, 20-someth, run, forme...</td>\n",
              "      <td>0.710</td>\n",
              "    </tr>\n",
              "    <tr>\n",
              "      <th>4</th>\n",
              "      <td>Moxie</td>\n",
              "      <td>[anim, short, drama]</td>\n",
              "      <td>[social, issu, drama, teen, movi, drama, comed...</td>\n",
              "      <td>[English]</td>\n",
              "      <td>Movie</td>\n",
              "      <td>[Stephen Irwin]</td>\n",
              "      <td>[nan]</td>\n",
              "      <td>[Ragga Gudrun]</td>\n",
              "      <td>2011</td>\n",
              "      <td>[inspir, mom, rebelli, past, confid, new, frie...</td>\n",
              "      <td>0.720</td>\n",
              "    </tr>\n",
              "  </tbody>\n",
              "</table>\n",
              "</div>"
            ],
            "text/plain": [
              "                 Title  ... Average Score\n",
              "0     Lets Fight Ghost  ...         0.755\n",
              "1  HOW TO BUILD A GIRL  ...         0.690\n",
              "2           Centigrade  ...         0.510\n",
              "3                ANNE+  ...         0.710\n",
              "4                Moxie  ...         0.720\n",
              "\n",
              "[5 rows x 11 columns]"
            ]
          },
          "metadata": {
            "tags": []
          },
          "execution_count": 10
        }
      ]
    },
    {
      "cell_type": "code",
      "metadata": {
        "colab": {
          "base_uri": "https://localhost:8080/",
          "height": 623
        },
        "id": "yF2IKNhmofC0",
        "outputId": "0a39047b-127d-4cd3-a175-a10aefdf956a"
      },
      "source": [
        "films[films['Average Score'].isna()]"
      ],
      "execution_count": 11,
      "outputs": [
        {
          "output_type": "execute_result",
          "data": {
            "text/html": [
              "<div>\n",
              "<style scoped>\n",
              "    .dataframe tbody tr th:only-of-type {\n",
              "        vertical-align: middle;\n",
              "    }\n",
              "\n",
              "    .dataframe tbody tr th {\n",
              "        vertical-align: top;\n",
              "    }\n",
              "\n",
              "    .dataframe thead th {\n",
              "        text-align: right;\n",
              "    }\n",
              "</style>\n",
              "<table border=\"1\" class=\"dataframe\">\n",
              "  <thead>\n",
              "    <tr style=\"text-align: right;\">\n",
              "      <th></th>\n",
              "      <th>Title</th>\n",
              "      <th>Genre</th>\n",
              "      <th>Tags</th>\n",
              "      <th>Languages</th>\n",
              "      <th>Series or Movie</th>\n",
              "      <th>Director</th>\n",
              "      <th>Writer</th>\n",
              "      <th>Actors</th>\n",
              "      <th>Release Date</th>\n",
              "      <th>Summary</th>\n",
              "      <th>Average Score</th>\n",
              "    </tr>\n",
              "  </thead>\n",
              "  <tbody>\n",
              "    <tr>\n",
              "      <th>208</th>\n",
              "      <td>The Strongest</td>\n",
              "      <td>[drama]</td>\n",
              "      <td>[sport, movi, drama, sport, drama, classic, mo...</td>\n",
              "      <td>[None]</td>\n",
              "      <td>Movie</td>\n",
              "      <td>[Raoul Walsh]</td>\n",
              "      <td>[Georges Clemenceau,  Raoul Walsh]</td>\n",
              "      <td>[Beatrice Noyes,  Carlo Liten,  Renée Adorée, ...</td>\n",
              "      <td>1920</td>\n",
              "      <td>[romanc, add, risk, two, hunt, expedit, arctic...</td>\n",
              "      <td>NaN</td>\n",
              "    </tr>\n",
              "    <tr>\n",
              "      <th>220</th>\n",
              "      <td>Firefly Lane</td>\n",
              "      <td>[drama, romanc]</td>\n",
              "      <td>[tv, drama, romant, tv, drama, u, tv, show, tv...</td>\n",
              "      <td>[English]</td>\n",
              "      <td>Series</td>\n",
              "      <td>[nan]</td>\n",
              "      <td>[Maggie Friedman]</td>\n",
              "      <td>[Roan Curtis,  Sarah Chalke,  Katherine Heigl,...</td>\n",
              "      <td>2021</td>\n",
              "      <td>[best, friend, tulli, kate, support, good, tim...</td>\n",
              "      <td>NaN</td>\n",
              "    </tr>\n",
              "    <tr>\n",
              "      <th>246</th>\n",
              "      <td>Le Tournoi</td>\n",
              "      <td>[documentari]</td>\n",
              "      <td>[drama, french]</td>\n",
              "      <td>[None]</td>\n",
              "      <td>Movie</td>\n",
              "      <td>[Charles Belot]</td>\n",
              "      <td>[nan]</td>\n",
              "      <td>[nan]</td>\n",
              "      <td>NaN</td>\n",
              "      <td>[self-indulg, chess, champion, cruis, major, t...</td>\n",
              "      <td>NaN</td>\n",
              "    </tr>\n",
              "    <tr>\n",
              "      <th>248</th>\n",
              "      <td>She is King</td>\n",
              "      <td>[music]</td>\n",
              "      <td>[african, film, drama, comedi, music, music, &amp;...</td>\n",
              "      <td>[English]</td>\n",
              "      <td>Movie</td>\n",
              "      <td>[Gersh Kgamedi]</td>\n",
              "      <td>[Nicola Rauch,  Gersh Kgamedi]</td>\n",
              "      <td>[Mandisa Nduna,  Mike Mvelase,  Aubrey Poo,  K...</td>\n",
              "      <td>2017</td>\n",
              "      <td>[khanyisil, take, talent, joburg, land, role, ...</td>\n",
              "      <td>NaN</td>\n",
              "    </tr>\n",
              "    <tr>\n",
              "      <th>249</th>\n",
              "      <td>How to Eliminate My Teacher</td>\n",
              "      <td>[mysteri, thriller]</td>\n",
              "      <td>[drama, programm, japanes, tv, programm, tv, t...</td>\n",
              "      <td>[Japanese]</td>\n",
              "      <td>Series</td>\n",
              "      <td>[nan]</td>\n",
              "      <td>[nan]</td>\n",
              "      <td>[Kokoro Morita,  Kazusa Okuyama,  Marika Matsu...</td>\n",
              "      <td>2020</td>\n",
              "      <td>[high-achiev, student, class, 3-d, make, game,...</td>\n",
              "      <td>NaN</td>\n",
              "    </tr>\n",
              "    <tr>\n",
              "      <th>...</th>\n",
              "      <td>...</td>\n",
              "      <td>...</td>\n",
              "      <td>...</td>\n",
              "      <td>...</td>\n",
              "      <td>...</td>\n",
              "      <td>...</td>\n",
              "      <td>...</td>\n",
              "      <td>...</td>\n",
              "      <td>...</td>\n",
              "      <td>...</td>\n",
              "      <td>...</td>\n",
              "    </tr>\n",
              "    <tr>\n",
              "      <th>15471</th>\n",
              "      <td>DreamWorks Short Stories</td>\n",
              "      <td>[nan]</td>\n",
              "      <td>[tv, comedi, kid, tv, tv, programm, tv, cartoo...</td>\n",
              "      <td>[nan]</td>\n",
              "      <td>Series</td>\n",
              "      <td>[nan]</td>\n",
              "      <td>[nan]</td>\n",
              "      <td>[nan]</td>\n",
              "      <td>NaN</td>\n",
              "      <td>[dreamworkss, coolest, charact, star, collect,...</td>\n",
              "      <td>NaN</td>\n",
              "    </tr>\n",
              "    <tr>\n",
              "      <th>15472</th>\n",
              "      <td>DreamWorks Shrek Stories</td>\n",
              "      <td>[nan]</td>\n",
              "      <td>[tv, comedi, kid, tv, tv, programm, anim, tale...</td>\n",
              "      <td>[nan]</td>\n",
              "      <td>Series</td>\n",
              "      <td>[nan]</td>\n",
              "      <td>[nan]</td>\n",
              "      <td>[nan]</td>\n",
              "      <td>NaN</td>\n",
              "      <td>[shrek, celebr, busi, christma, spooki, hallow...</td>\n",
              "      <td>NaN</td>\n",
              "    </tr>\n",
              "    <tr>\n",
              "      <th>15474</th>\n",
              "      <td>Nijntje and Vriendjes</td>\n",
              "      <td>[nan]</td>\n",
              "      <td>[kid, tv, tv, programm, dutch, tv, show, tv, s...</td>\n",
              "      <td>[nan]</td>\n",
              "      <td>Series</td>\n",
              "      <td>[nan]</td>\n",
              "      <td>[nan]</td>\n",
              "      <td>[nan]</td>\n",
              "      <td>NaN</td>\n",
              "      <td>[dick, bruna, classic, child, stori, get, new,...</td>\n",
              "      <td>NaN</td>\n",
              "    </tr>\n",
              "    <tr>\n",
              "      <th>15475</th>\n",
              "      <td>K-POP Extreme Survival</td>\n",
              "      <td>[nan]</td>\n",
              "      <td>[tv, drama, tv, programm, tv, comedi, romant, ...</td>\n",
              "      <td>[nan]</td>\n",
              "      <td>Series</td>\n",
              "      <td>[nan]</td>\n",
              "      <td>[nan]</td>\n",
              "      <td>[nan]</td>\n",
              "      <td>NaN</td>\n",
              "      <td>[seung, yeon, decid, chase, dream, becom, k-po...</td>\n",
              "      <td>NaN</td>\n",
              "    </tr>\n",
              "    <tr>\n",
              "      <th>15476</th>\n",
              "      <td>DreamWorks Shreks Swamp Stories</td>\n",
              "      <td>[nan]</td>\n",
              "      <td>[anim, tale, famili, comedi, famili, adventur,...</td>\n",
              "      <td>[nan]</td>\n",
              "      <td>Series</td>\n",
              "      <td>[nan]</td>\n",
              "      <td>[nan]</td>\n",
              "      <td>[nan]</td>\n",
              "      <td>NaN</td>\n",
              "      <td>[shrek, celebr, halloween, pus, boot, captur, ...</td>\n",
              "      <td>NaN</td>\n",
              "    </tr>\n",
              "  </tbody>\n",
              "</table>\n",
              "<p>2086 rows × 11 columns</p>\n",
              "</div>"
            ],
            "text/plain": [
              "                                 Title  ... Average Score\n",
              "208                      The Strongest  ...           NaN\n",
              "220                       Firefly Lane  ...           NaN\n",
              "246                         Le Tournoi  ...           NaN\n",
              "248                        She is King  ...           NaN\n",
              "249        How to Eliminate My Teacher  ...           NaN\n",
              "...                                ...  ...           ...\n",
              "15471         DreamWorks Short Stories  ...           NaN\n",
              "15472         DreamWorks Shrek Stories  ...           NaN\n",
              "15474            Nijntje and Vriendjes  ...           NaN\n",
              "15475           K-POP Extreme Survival  ...           NaN\n",
              "15476  DreamWorks Shreks Swamp Stories  ...           NaN\n",
              "\n",
              "[2086 rows x 11 columns]"
            ]
          },
          "metadata": {
            "tags": []
          },
          "execution_count": 11
        }
      ]
    },
    {
      "cell_type": "code",
      "metadata": {
        "colab": {
          "base_uri": "https://localhost:8080/",
          "height": 49
        },
        "id": "fnJt1HRkqfx4",
        "outputId": "d1ae932e-5085-4be5-884c-55e0b2a91dc3"
      },
      "source": [
        "films.dropna(subset=['Average Score'], inplace=True)\n",
        "\n",
        "films[films['Average Score'].isna()]"
      ],
      "execution_count": 12,
      "outputs": [
        {
          "output_type": "execute_result",
          "data": {
            "text/html": [
              "<div>\n",
              "<style scoped>\n",
              "    .dataframe tbody tr th:only-of-type {\n",
              "        vertical-align: middle;\n",
              "    }\n",
              "\n",
              "    .dataframe tbody tr th {\n",
              "        vertical-align: top;\n",
              "    }\n",
              "\n",
              "    .dataframe thead th {\n",
              "        text-align: right;\n",
              "    }\n",
              "</style>\n",
              "<table border=\"1\" class=\"dataframe\">\n",
              "  <thead>\n",
              "    <tr style=\"text-align: right;\">\n",
              "      <th></th>\n",
              "      <th>Title</th>\n",
              "      <th>Genre</th>\n",
              "      <th>Tags</th>\n",
              "      <th>Languages</th>\n",
              "      <th>Series or Movie</th>\n",
              "      <th>Director</th>\n",
              "      <th>Writer</th>\n",
              "      <th>Actors</th>\n",
              "      <th>Release Date</th>\n",
              "      <th>Summary</th>\n",
              "      <th>Average Score</th>\n",
              "    </tr>\n",
              "  </thead>\n",
              "  <tbody>\n",
              "  </tbody>\n",
              "</table>\n",
              "</div>"
            ],
            "text/plain": [
              "Empty DataFrame\n",
              "Columns: [Title, Genre, Tags, Languages, Series or Movie, Director, Writer, Actors, Release Date, Summary, Average Score]\n",
              "Index: []"
            ]
          },
          "metadata": {
            "tags": []
          },
          "execution_count": 12
        }
      ]
    },
    {
      "cell_type": "markdown",
      "metadata": {
        "id": "YEDdOQsFVuyb"
      },
      "source": [
        "## Indexing the documents"
      ]
    },
    {
      "cell_type": "code",
      "metadata": {
        "id": "I_SBcaX2WDtG"
      },
      "source": [
        "film_list = films.values.tolist()"
      ],
      "execution_count": 13,
      "outputs": []
    },
    {
      "cell_type": "code",
      "metadata": {
        "colab": {
          "base_uri": "https://localhost:8080/"
        },
        "id": "w63Bld_CWWS4",
        "outputId": "da1288a8-ba3a-41b4-9d5b-eee50f6d1cd5"
      },
      "source": [
        "films.dtypes"
      ],
      "execution_count": 14,
      "outputs": [
        {
          "output_type": "execute_result",
          "data": {
            "text/plain": [
              "Title                object\n",
              "Genre                object\n",
              "Tags                 object\n",
              "Languages            object\n",
              "Series or Movie    category\n",
              "Director             object\n",
              "Writer               object\n",
              "Actors               object\n",
              "Release Date         object\n",
              "Summary              object\n",
              "Average Score       float64\n",
              "dtype: object"
            ]
          },
          "metadata": {
            "tags": []
          },
          "execution_count": 14
        }
      ]
    },
    {
      "cell_type": "markdown",
      "metadata": {
        "id": "s4zhGgwhXCYs"
      },
      "source": [
        "Creating the index in Elasticsearch ([API](https://www.elastic.co/guide/en/elasticsearch/reference/current/indices-create-index.html))."
      ]
    },
    {
      "cell_type": "code",
      "metadata": {
        "id": "jOCuvwOTXArI"
      },
      "source": [
        "index_body = {\n",
        "    'settings': {\n",
        "        'number_of_shards': 1,\n",
        "        'number_of_replicas': 1,\n",
        "        \n",
        "    },\n",
        "    'mappings': {\n",
        "          'properties': {\n",
        "              'Title': {'type': 'text'},\n",
        "              'Genre': {'type': 'keyword'},\n",
        "              'Tags' : {'type': 'keyword'},\n",
        "              'Languages': {'type': 'keyword'},\n",
        "              'Series or Movie' : {'type' : 'keyword'},\n",
        "              'Director' : {'type': 'text'},\n",
        "              'Writer' : {'type': 'text'},\n",
        "              'Actors' : {'type': 'text'},\n",
        "              'Release Date' : {'type': 'integer'},\n",
        "              'Summary' : {'type': 'text'},\n",
        "              'Average Score' : {'type': 'double'}  \n",
        "          }\n",
        "    }\n",
        "}"
      ],
      "execution_count": 15,
      "outputs": []
    },
    {
      "cell_type": "code",
      "metadata": {
        "colab": {
          "base_uri": "https://localhost:8080/"
        },
        "id": "pSrI05TifjCY",
        "outputId": "d2d1e7bd-3024-4e91-b8a7-0fbf657b2833"
      },
      "source": [
        "index_name = 'netflix'\n",
        "\n",
        "# es.indices.delete(index='netflix', ignore=[400, 404]) # useful during development to reset the index\n",
        "es.indices.create(index_name, body=index_body)"
      ],
      "execution_count": 16,
      "outputs": [
        {
          "output_type": "execute_result",
          "data": {
            "text/plain": [
              "{'acknowledged': True, 'index': 'netflix', 'shards_acknowledged': True}"
            ]
          },
          "metadata": {
            "tags": []
          },
          "execution_count": 16
        }
      ]
    },
    {
      "cell_type": "code",
      "metadata": {
        "id": "TubwF1AikpZa"
      },
      "source": [
        "for title, genre, tags, languages, series_or_movie, director, writer, actors, release_date, summary, avg_score in film_list:\n",
        "  list_body = {\n",
        "      'Title': title,\n",
        "      'Genre': genre,\n",
        "      'Tags' : tags,\n",
        "      'Languages': languages,\n",
        "      'Series or Movie' : series_or_movie,\n",
        "      'Director' : director,\n",
        "      'Writer' : writer,\n",
        "      'Actors' : actors,\n",
        "      'Release Date' : release_date,\n",
        "      'Summary' : summary,\n",
        "      'Average Score' : avg_score\n",
        "  }\n",
        "  es.index(index_name, list_body)"
      ],
      "execution_count": 17,
      "outputs": []
    },
    {
      "cell_type": "code",
      "metadata": {
        "colab": {
          "base_uri": "https://localhost:8080/",
          "height": 35
        },
        "id": "q4bHJ2yTmyLc",
        "outputId": "1eccf670-6477-4634-f6b7-cf5a928fa156"
      },
      "source": [
        "es.cat.count(index='netflix',h=['count'])"
      ],
      "execution_count": 18,
      "outputs": [
        {
          "output_type": "execute_result",
          "data": {
            "application/vnd.google.colaboratory.intrinsic+json": {
              "type": "string"
            },
            "text/plain": [
              "'13394\\n'"
            ]
          },
          "metadata": {
            "tags": []
          },
          "execution_count": 18
        }
      ]
    },
    {
      "cell_type": "code",
      "metadata": {
        "id": "FyrlLzhNsB1I",
        "colab": {
          "base_uri": "https://localhost:8080/"
        },
        "outputId": "67d3bd3f-63ac-41e0-8b4f-958575a52cda"
      },
      "source": [
        "es.search(index=\"netflix\", body={\"query\": {\"match_all\": {}}})\n",
        "print('')"
      ],
      "execution_count": 19,
      "outputs": [
        {
          "output_type": "stream",
          "text": [
            "\n"
          ],
          "name": "stdout"
        }
      ]
    },
    {
      "cell_type": "code",
      "metadata": {
        "id": "eKE_0VK7uVSI",
        "colab": {
          "base_uri": "https://localhost:8080/"
        },
        "outputId": "f843289d-6104-403f-a3d0-e9e29874d89c"
      },
      "source": [
        "es.search(index=\"netflix\", body={\"query\":{'term': {'Genre' : 'crime'}} })\n",
        "print('')"
      ],
      "execution_count": 20,
      "outputs": [
        {
          "output_type": "stream",
          "text": [
            "\n"
          ],
          "name": "stdout"
        }
      ]
    },
    {
      "cell_type": "code",
      "metadata": {
        "id": "Q3LprDaX2T6n",
        "colab": {
          "base_uri": "https://localhost:8080/"
        },
        "outputId": "78154c08-c40c-4d1c-deee-28b8fa8e6e85"
      },
      "source": [
        "es.search(index=\"netflix\", body={\"query\":{'match': {'Director' : 'Tarantino'}} })\n",
        "print('')"
      ],
      "execution_count": 21,
      "outputs": [
        {
          "output_type": "stream",
          "text": [
            "\n"
          ],
          "name": "stdout"
        }
      ]
    },
    {
      "cell_type": "code",
      "metadata": {
        "colab": {
          "base_uri": "https://localhost:8080/"
        },
        "id": "wQwipCJswnAi",
        "outputId": "465e7d6a-645a-4f51-ddef-5a87f8ffc4df"
      },
      "source": [
        "query_body = {\n",
        "    'query' :{\n",
        "        'match' :{\n",
        "            'Title' : 'Lets Fight Ghost'\n",
        "        }\n",
        "    }\n",
        "}\n",
        "\n",
        "explain=True\n",
        "\n",
        "results = es.search(index=index_name, body=query_body, explain=explain)['hits']['hits']\n",
        "for hit in results:\n",
        "  print('Title: {} - Director: {} - score: {}'.format(hit['_source']['Title'], hit['_source']['Director'], hit['_score']))"
      ],
      "execution_count": 22,
      "outputs": [
        {
          "output_type": "stream",
          "text": [
            "Title: Lets Fight Ghost - Director: ['Tomas Alfredson'] - score: 20.152025\n",
            "Title: Lets Dance - Director: ['Tomas Alfredson'] - score: 8.814203\n",
            "Title: Lets Dance - Director: ['Ladislas Chollat'] - score: 8.814203\n",
            "Title: Fist Fight - Director: ['Richie Keen'] - score: 7.9699717\n",
            "Title: Ghost - Director: ['Jerry Zucker'] - score: 7.805466\n",
            "Title: Lets Eat 2 - Director: ['nan'] - score: 7.6067967\n",
            "Title: Lets Be Cops - Director: ['Luke Greenfield'] - score: 7.6067967\n",
            "Title: Ultra Fight Victory - Director: ['nan'] - score: 6.8782115\n",
            "Title: S.W.A.T.: Fire Fight - Director: ['Benny Boom'] - score: 6.8782115\n",
            "Title: Ghost Buddies - Director: ['Simon Sek'] - score: 6.5665264\n"
          ],
          "name": "stdout"
        }
      ]
    },
    {
      "cell_type": "markdown",
      "metadata": {
        "id": "q4QcOj1wiIWy"
      },
      "source": [
        "**Compound query Search:**"
      ]
    },
    {
      "cell_type": "code",
      "metadata": {
        "id": "3ABstlWP1iCm",
        "colab": {
          "base_uri": "https://localhost:8080/"
        },
        "outputId": "1429f619-ac83-435a-a687-ea74477ad977"
      },
      "source": [
        "es.search(index=\"netflix\", body={\"query\":{'bool':{'must':[{'match': {'Director' : 'Tarantino'}}, {'match': {'Genre': 'crime'}}] }}})"
      ],
      "execution_count": 23,
      "outputs": [
        {
          "output_type": "execute_result",
          "data": {
            "text/plain": [
              "{'_shards': {'failed': 0, 'skipped': 0, 'successful': 1, 'total': 1},\n",
              " 'hits': {'hits': [{'_id': 'MgAP43oB7m-swid8xTlH',\n",
              "    '_index': 'netflix',\n",
              "    '_score': 9.963967,\n",
              "    '_source': {'Actors': ['Tim Roth',\n",
              "      ' Amanda Plummer',\n",
              "      ' Laura Lovelace',\n",
              "      ' John Travolta'],\n",
              "     'Average Score': 0.8025,\n",
              "     'Director': ['Quentin Tarantino'],\n",
              "     'Genre': ['crime', 'drama'],\n",
              "     'Languages': ['English', ' Spanish', ' French'],\n",
              "     'Release Date': '1994',\n",
              "     'Series or Movie': 'Movie',\n",
              "     'Summary': ['shelter',\n",
              "      'young',\n",
              "      'woman',\n",
              "      'becom',\n",
              "      'enamor',\n",
              "      'struggl',\n",
              "      'writer',\n",
              "      'goe',\n",
              "      'great',\n",
              "      'length',\n",
              "      'becom',\n",
              "      'involv',\n",
              "      'creativ',\n",
              "      'process',\n",
              "      '.'],\n",
              "     'Tags': ['psycholog',\n",
              "      'thriller',\n",
              "      'independ',\n",
              "      'film',\n",
              "      'thriller',\n",
              "      'indonesian',\n",
              "      'film'],\n",
              "     'Title': 'Fiction.',\n",
              "     'Writer': ['Quentin Tarantino', ' Roger Avary']},\n",
              "    '_type': '_doc'},\n",
              "   {'_id': 'ugAQ43oB7m-swid8KkiA',\n",
              "    '_index': 'netflix',\n",
              "    '_score': 9.963967,\n",
              "    '_source': {'Actors': ['Walton Goggins',\n",
              "      ' Samuel L. Jackson',\n",
              "      ' Jennifer Jason Leigh',\n",
              "      ' Kurt Russell'],\n",
              "     'Average Score': 0.6425,\n",
              "     'Director': ['Quentin Tarantino'],\n",
              "     'Genre': ['crime', 'drama', 'mysteri', 'thriller', 'western'],\n",
              "     'Languages': ['English', ' Spanish', ' French'],\n",
              "     'Release Date': '2015',\n",
              "     'Series or Movie': 'Series',\n",
              "     'Summary': ['trap',\n",
              "      'stagecoach',\n",
              "      'stop',\n",
              "      'storm',\n",
              "      'rage',\n",
              "      'outsid',\n",
              "      'two',\n",
              "      'bounti',\n",
              "      'hunter',\n",
              "      'outlaw',\n",
              "      'face',\n",
              "      'galleri',\n",
              "      'rogu',\n",
              "      '.',\n",
              "      'featur',\n",
              "      'never-before-seen',\n",
              "      'footag',\n",
              "      '.'],\n",
              "     'Tags': ['western', 'thriller', 'crime', 'thriller'],\n",
              "     'Title': 'The Hateful Eight: Extended Version',\n",
              "     'Writer': ['Quentin Tarantino']},\n",
              "    '_type': '_doc'},\n",
              "   {'_id': 'LgAQ43oB7m-swid8mlvG',\n",
              "    '_index': 'netflix',\n",
              "    '_score': 9.963967,\n",
              "    '_source': {'Actors': ['Walton Goggins',\n",
              "      ' Samuel L. Jackson',\n",
              "      ' Jennifer Jason Leigh',\n",
              "      ' Kurt Russell'],\n",
              "     'Average Score': 0.6425,\n",
              "     'Director': ['Quentin Tarantino'],\n",
              "     'Genre': ['crime', 'drama', 'mysteri', 'thriller', 'western'],\n",
              "     'Languages': ['English', ' Spanish', ' French'],\n",
              "     'Release Date': '2015',\n",
              "     'Series or Movie': 'Movie',\n",
              "     'Summary': ['year',\n",
              "      'civil',\n",
              "      'war',\n",
              "      'bounti',\n",
              "      'hunter',\n",
              "      'captiv',\n",
              "      'waylaid',\n",
              "      'wyom',\n",
              "      'blizzard',\n",
              "      'hole',\n",
              "      'way',\n",
              "      'station',\n",
              "      'six',\n",
              "      'dicey',\n",
              "      'stranger',\n",
              "      '.'],\n",
              "     'Tags': ['adventur',\n",
              "      'action',\n",
              "      '&',\n",
              "      'adventur',\n",
              "      'period',\n",
              "      'piec',\n",
              "      'western',\n",
              "      'crime',\n",
              "      'movi',\n",
              "      'thriller',\n",
              "      'movi',\n",
              "      'crime',\n",
              "      'thriller'],\n",
              "     'Title': 'The Hateful Eight',\n",
              "     'Writer': ['Quentin Tarantino']},\n",
              "    '_type': '_doc'},\n",
              "   {'_id': 'zAAQ43oB7m-swid86mjM',\n",
              "    '_index': 'netflix',\n",
              "    '_score': 9.963967,\n",
              "    '_source': {'Actors': ['Tim Roth',\n",
              "      ' Amanda Plummer',\n",
              "      ' Laura Lovelace',\n",
              "      ' John Travolta'],\n",
              "     'Average Score': 0.8025,\n",
              "     'Director': ['Quentin Tarantino'],\n",
              "     'Genre': ['crime', 'drama'],\n",
              "     'Languages': ['English', ' Spanish', ' French'],\n",
              "     'Release Date': '1994',\n",
              "     'Series or Movie': 'Movie',\n",
              "     'Summary': ['quentin',\n",
              "      'tarantino',\n",
              "      'styliz',\n",
              "      'crime',\n",
              "      'caper',\n",
              "      'weav',\n",
              "      'togeth',\n",
              "      'stori',\n",
              "      'featur',\n",
              "      'burger-lov',\n",
              "      'hit',\n",
              "      'man',\n",
              "      'philosoph',\n",
              "      'partner',\n",
              "      'washed-up',\n",
              "      'boxer',\n",
              "      '.'],\n",
              "     'Tags': ['independ',\n",
              "      'drama',\n",
              "      'drama',\n",
              "      'independ',\n",
              "      'film',\n",
              "      'thriller',\n",
              "      'gangster',\n",
              "      'film',\n",
              "      'film',\n",
              "      'noir',\n",
              "      'polic',\n",
              "      'thriller',\n",
              "      'polic',\n",
              "      'drama',\n",
              "      'polic',\n",
              "      'movi',\n",
              "      'crime',\n",
              "      'thriller',\n",
              "      'crime',\n",
              "      'drama',\n",
              "      'independ',\n",
              "      'thriller',\n",
              "      'classic',\n",
              "      'drama',\n",
              "      'classic',\n",
              "      'movi',\n",
              "      'crime',\n",
              "      'movi'],\n",
              "     'Title': 'Pulp Fiction',\n",
              "     'Writer': ['Quentin Tarantino', ' Roger Avary']},\n",
              "    '_type': '_doc'},\n",
              "   {'_id': '-AAQ43oB7m-swid862jR',\n",
              "    '_index': 'netflix',\n",
              "    '_score': 9.963967,\n",
              "    '_source': {'Actors': ['Tim Roth',\n",
              "      ' Michael Madsen',\n",
              "      ' Harvey Keitel',\n",
              "      ' Chris Penn'],\n",
              "     'Average Score': 0.74,\n",
              "     'Director': ['Quentin Tarantino'],\n",
              "     'Genre': ['crime', 'drama', 'thriller'],\n",
              "     'Languages': ['English'],\n",
              "     'Release Date': '1992',\n",
              "     'Series or Movie': 'Movie',\n",
              "     'Summary': ['quentin',\n",
              "      'tarantino',\n",
              "      'raw',\n",
              "      'directori',\n",
              "      'debut',\n",
              "      'botch',\n",
              "      'robberi',\n",
              "      'indic',\n",
              "      'polic',\n",
              "      'inform',\n",
              "      'pressur',\n",
              "      'mount',\n",
              "      'aftermath',\n",
              "      'warehous',\n",
              "      '.'],\n",
              "     'Tags': ['independ',\n",
              "      'film',\n",
              "      'thriller',\n",
              "      'gangster',\n",
              "      'film',\n",
              "      'film',\n",
              "      'noir',\n",
              "      'polic',\n",
              "      'thriller',\n",
              "      'polic',\n",
              "      'movi',\n",
              "      'crime',\n",
              "      'thriller',\n",
              "      'independ',\n",
              "      'thriller',\n",
              "      'crime',\n",
              "      'film',\n",
              "      'cult',\n",
              "      'film',\n",
              "      'heist',\n",
              "      'film',\n",
              "      'classic',\n",
              "      'film',\n",
              "      'classic',\n",
              "      'thriller'],\n",
              "     'Title': 'Reservoir Dogs',\n",
              "     'Writer': ['Quentin Tarantino', ' Roger Avary']},\n",
              "    '_type': '_doc'},\n",
              "   {'_id': 'cwAP43oB7m-swid83Dxr',\n",
              "    '_index': 'netflix',\n",
              "    '_score': 6.691662,\n",
              "    '_source': {'Actors': ['Jessica Alba',\n",
              "      ' Devon Aoki',\n",
              "      ' Powers Boothe',\n",
              "      ' Alexis Bledel'],\n",
              "     'Average Score': 0.675,\n",
              "     'Director': ['Robert Rodriguez', ' Quentin Tarantino', ' Frank Miller'],\n",
              "     'Genre': ['crime', 'thriller'],\n",
              "     'Languages': ['English'],\n",
              "     'Release Date': '2005',\n",
              "     'Series or Movie': 'Movie',\n",
              "     'Summary': ['busi',\n",
              "      'coupl',\n",
              "      'tri',\n",
              "      'give',\n",
              "      'love',\n",
              "      'life',\n",
              "      'boost',\n",
              "      'take',\n",
              "      'impromptu',\n",
              "      'weekend',\n",
              "      'trip',\n",
              "      'onli',\n",
              "      'find',\n",
              "      'relationship',\n",
              "      'test',\n",
              "      'unexpect',\n",
              "      'way',\n",
              "      '.'],\n",
              "     'Tags': ['african',\n",
              "      'movi',\n",
              "      'psycholog',\n",
              "      'thriller',\n",
              "      'thriller',\n",
              "      'movi',\n",
              "      'mysteri',\n",
              "      'intern',\n",
              "      'thriller',\n",
              "      'steami',\n",
              "      'thriller',\n",
              "      'steami',\n",
              "      'thriller'],\n",
              "     'Title': 'Sin City',\n",
              "     'Writer': ['Robert Rodriguez', ' Frank Miller']},\n",
              "    '_type': '_doc'}],\n",
              "  'max_score': 9.963967,\n",
              "  'total': {'relation': 'eq', 'value': 6}},\n",
              " 'timed_out': False,\n",
              " 'took': 7}"
            ]
          },
          "metadata": {
            "tags": []
          },
          "execution_count": 23
        }
      ]
    },
    {
      "cell_type": "code",
      "metadata": {
        "id": "jrsee-PIeva5"
      },
      "source": [
        "def free_search(query):\n",
        "  query = query_processor(query)\n",
        "  query_body = {\n",
        "    'query' :{\n",
        "        'multi_match' :{\n",
        "            'query' : str(query),\n",
        "            'type'  : \"cross_fields\",\n",
        "            'fields' : ['Title^2', 'Genre^3', 'Tags^2', 'Series or Movie', 'Director', 'Writer', 'Actors', 'Summary']\n",
        "          }\n",
        "      }\n",
        "  }\n",
        "  results = es.search(index='netflix', body=query_body)['hits']['hits']\n",
        "  for hit in results:\n",
        "    print('Title: {} - Genre: {} - score: {}'.format(hit['_source']['Title'], hit['_source']['Genre'], hit['_score']))\n",
        "  return results\n"
      ],
      "execution_count": 24,
      "outputs": []
    },
    {
      "cell_type": "code",
      "metadata": {
        "colab": {
          "base_uri": "https://localhost:8080/"
        },
        "id": "_0dSJwODq79r",
        "outputId": "39d231dc-18c2-49a4-f516-e580bc348512"
      },
      "source": [
        "free_search('An action film about the end of the world')\n",
        "print('\\n')\n"
      ],
      "execution_count": 25,
      "outputs": [
        {
          "output_type": "stream",
          "text": [
            "Title: The End - Genre: ['comedi', 'drama'] - score: 14.311697\n",
            "Title: Journeys End - Genre: ['drama', 'war'] - score: 12.263657\n",
            "Title: Parades End - Genre: ['action', 'drama', 'romanc', 'war'] - score: 12.263657\n",
            "Title: Otto - Der Neue Film - Genre: ['comedi'] - score: 11.343967\n",
            "Title: Action Point - Genre: ['comedi'] - score: 10.921772\n",
            "Title: Action Replayy - Genre: ['comedi', 'romanc', 'sci-fi'] - score: 10.921772\n",
            "Title: The Worlds End - Genre: ['comedi', 'sci-fi'] - score: 10.750923\n",
            "Title: One Piece Film: Strong World - Genre: ['anim', 'action', 'adventur', 'fantasi'] - score: 10.409172\n",
            "Title: Seraph of the End - Genre: ['anim', 'action', 'adventur', 'drama', 'famili', 'fantasi', 'sci-fi'] - score: 9.987624\n",
            "Title: The End? - Genre: ['horror', 'thriller'] - score: 9.445669\n",
            "\n",
            "\n"
          ],
          "name": "stdout"
        }
      ]
    },
    {
      "cell_type": "code",
      "metadata": {
        "colab": {
          "base_uri": "https://localhost:8080/"
        },
        "id": "3LjGhy5Ju2Dl",
        "outputId": "63eeb620-9393-4628-9600-cd806f505021"
      },
      "source": [
        "free_search('A comedy series about a group of friends')\n",
        "print('\\n')"
      ],
      "execution_count": 26,
      "outputs": [
        {
          "output_type": "stream",
          "text": [
            "Title: Divine Secrets of the Ya-Ya Sisterhood - Genre: ['drama'] - score: 11.143722\n",
            "Title: The Comedy Lineup - Genre: ['comedi'] - score: 10.668942\n",
            "Title: Assimilate - Genre: ['horror', 'mysteri', 'sci-fi', 'thriller'] - score: 9.757513\n",
            "Title: The Adventures of Puss in Boots - Genre: ['anim', 'action', 'adventur', 'comedi', 'famili', 'fantasi', 'western'] - score: 9.679244\n",
            "Title: Anohana: The Flower We Saw That Day - Genre: ['anim', 'adventur', 'drama', 'fantasi', 'mysteri', 'romanc'] - score: 9.483681\n",
            "Title: Friend Zone - Genre: ['comedi'] - score: 9.396196\n",
            "Title: Skins - Genre: ['drama'] - score: 9.224798\n",
            "Title: #blackAF - Genre: ['comedi'] - score: 8.013987\n",
            "Title: I Think You Should Leave with Tim Robinson - Genre: ['comedi'] - score: 8.013987\n",
            "Title: Fresh Meat - Genre: ['comedi', 'drama'] - score: 8.013987\n",
            "\n",
            "\n"
          ],
          "name": "stdout"
        }
      ]
    },
    {
      "cell_type": "code",
      "metadata": {
        "colab": {
          "base_uri": "https://localhost:8080/"
        },
        "id": "IjW8cIdnu3uq",
        "outputId": "8316be99-a621-4b9a-f12f-7a7d5ac2b5a1"
      },
      "source": [
        "free_search('A series about a group of people saving the world')\n",
        "print('\\n')"
      ],
      "execution_count": 27,
      "outputs": [
        {
          "output_type": "stream",
          "text": [
            "Title: Doomsday: The Sinking of Japan - Genre: ['adventur', 'drama', 'sci-fi', 'thriller'] - score: 11.75946\n",
            "Title: Grimgar of Fantasy and Ash - Genre: ['anim', 'adventur', 'drama', 'fantasi'] - score: 11.513651\n",
            "Title: Passionate People - Genre: ['comedi', 'romanc'] - score: 11.469359\n",
            "Title: Dark Net - Genre: ['documentari'] - score: 11.189331\n",
            "Title: Moryo no Hako - Genre: ['crime', 'mysteri', 'thriller'] - score: 11.147486\n",
            "Title: Reboot: The Guardian Code - Genre: ['action', 'comedi', 'drama', 'sci-fi'] - score: 10.211877\n",
            "Title: DCs Legends of Tomorrow - Genre: ['documentari', 'action', 'sci-fi'] - score: 10.194386\n",
            "Title: Arthur and the Invisibles - Genre: ['anim', 'adventur', 'comedi', 'famili', 'fantasi'] - score: 9.985563\n",
            "Title: Hello World - Genre: ['anim', 'comedi', 'drama', 'famili', 'romanc', 'sci-fi'] - score: 9.919128\n",
            "Title: Young Justice - Genre: ['anim', 'action', 'adventur', 'crime', 'romanc', 'sci-fi'] - score: 9.654355\n",
            "\n",
            "\n"
          ],
          "name": "stdout"
        }
      ]
    },
    {
      "cell_type": "code",
      "metadata": {
        "colab": {
          "base_uri": "https://localhost:8080/"
        },
        "id": "Xm4UovSau5q0",
        "outputId": "c4eb4efc-422c-4059-f811-347df3979999"
      },
      "source": [
        "free_search('A film about a family')\n",
        "print('\\n')"
      ],
      "execution_count": 28,
      "outputs": [
        {
          "output_type": "stream",
          "text": [
            "Title: Stromberg - Der Film - Genre: ['comedi'] - score: 7.7949395\n",
            "Title: Draw - Genre: ['anim', 'short'] - score: 6.8804126\n",
            "Title: Battles Without Honor and Humanity Dairi Senso - Genre: ['action', 'drama'] - score: 6.8804126\n",
            "Title: Otto - Der Neue Film - Genre: ['comedi'] - score: 6.8558035\n",
            "Title: One Piece Film: Gold - Genre: ['anim', 'action', 'adventur', 'fantasi'] - score: 6.8558035\n",
            "Title: One Piece Film Z - Genre: ['anim', 'action', 'adventur', 'fantasi'] - score: 6.8558035\n",
            "Title: A Lion in the House - Genre: ['documentari'] - score: 6.687322\n",
            "Title: The Wilde Wedding - Genre: ['comedi', 'romanc'] - score: 6.687322\n",
            "Title: Joey - Genre: ['famili', 'adventur', 'comedi'] - score: 6.687322\n",
            "Title: Rumor Has It - Genre: ['comedi', 'drama', 'romanc'] - score: 6.687322\n",
            "\n",
            "\n"
          ],
          "name": "stdout"
        }
      ]
    },
    {
      "cell_type": "code",
      "metadata": {
        "colab": {
          "base_uri": "https://localhost:8080/"
        },
        "id": "O685yzF2u7it",
        "outputId": "96b9cfcc-0de4-431b-df8b-f7699185ef85"
      },
      "source": [
        "free_search('Something about solving a mystery')\n",
        "print('\\n')"
      ],
      "execution_count": 29,
      "outputs": [
        {
          "output_type": "stream",
          "text": [
            "Title: The Little Man - Genre: ['comedi', 'famili', 'fantasi'] - score: 8.9453\n",
            "Title: Gintama: The Movie: The Final Chapter: Be Forever Yorozuya - Genre: ['anim', 'action', 'comedi', 'sci-fi'] - score: 8.8301735\n",
            "Title: Trick Shinsaku Special - Genre: ['comedi', 'mysteri'] - score: 8.575211\n",
            "Title: Whats New Scooby-Doo? - Genre: ['comedi', 'fantasi', 'romanc'] - score: 8.575211\n",
            "Title: Skyline - Genre: ['action', 'sci-fi', 'thriller'] - score: 8.575211\n",
            "Title: Dilili in Paris - Genre: ['anim', 'adventur', 'famili', 'mysteri'] - score: 8.334558\n",
            "Title: Prokurator - Genre: ['crime'] - score: 8.334558\n",
            "Title: The Victims Game - Genre: ['drama', 'thriller'] - score: 8.334558\n",
            "Title: Saru Lock - Genre: ['comedi', 'drama'] - score: 8.334558\n",
            "Title: SŁUGI WOJNY - Genre: ['thriller'] - score: 8.334558\n",
            "\n",
            "\n"
          ],
          "name": "stdout"
        }
      ]
    },
    {
      "cell_type": "markdown",
      "metadata": {
        "id": "Ar9XMzDFxZSg"
      },
      "source": [
        "## Testing"
      ]
    },
    {
      "cell_type": "code",
      "metadata": {
        "id": "SC0n9b3_AHk5"
      },
      "source": [
        "benchmark = pd.read_csv(\"Benchmark_dataset_features.csv\")\n",
        "benchmark.dropna(subset=['Average Score'], inplace=True)\n",
        "benchmark[\"Title\"].tolist()\n",
        "benchmark = films[films[\"Title\"].isin(benchmark[\"Title\"].tolist())]\n",
        "benchmark = benchmark.drop_duplicates(subset=[\"Title\"])\n",
        "benchmark_list = benchmark.values.tolist()"
      ],
      "execution_count": 31,
      "outputs": []
    },
    {
      "cell_type": "code",
      "metadata": {
        "id": "EZpf8veyzTQc"
      },
      "source": [
        "#benchmark = pd.read_csv(\"Benchmark_dataset_features.csv\")\n",
        "#benchmark = dataset_processor(benchmark)\n",
        "#benchmark.dropna(subset=['Average Score'], inplace=True)\n",
        "#benchmark_list = benchmark.values.tolist()\n"
      ],
      "execution_count": null,
      "outputs": []
    },
    {
      "cell_type": "code",
      "metadata": {
        "colab": {
          "base_uri": "https://localhost:8080/"
        },
        "id": "nMbY1jfixasn",
        "outputId": "f1356e0c-8816-4a32-9a76-035d28cd087e"
      },
      "source": [
        "index_name = 'benchmark'\n",
        "es.indices.create(index_name, body=index_body)"
      ],
      "execution_count": 32,
      "outputs": [
        {
          "output_type": "execute_result",
          "data": {
            "text/plain": [
              "{'acknowledged': True, 'index': 'benchmark', 'shards_acknowledged': True}"
            ]
          },
          "metadata": {
            "tags": []
          },
          "execution_count": 32
        }
      ]
    },
    {
      "cell_type": "code",
      "metadata": {
        "id": "DoZJwWbny-AB"
      },
      "source": [
        "for title, genre, tags, languages, series_or_movie, director, writer, actors, release_date, summary, avg_score in benchmark_list:\n",
        "  list_body = {\n",
        "      'Title': title,\n",
        "      'Genre': genre,\n",
        "      'Tags' : tags,\n",
        "      'Languages': languages,\n",
        "      'Series or Movie' : series_or_movie,\n",
        "      'Director' : director,\n",
        "      'Writer' : writer,\n",
        "      'Actors' : actors,\n",
        "      'Release Date' : release_date,\n",
        "      'Summary' : summary,\n",
        "      'Average Score' : avg_score\n",
        "  }\n",
        "  es.index(index_name, list_body)"
      ],
      "execution_count": 33,
      "outputs": []
    },
    {
      "cell_type": "code",
      "metadata": {
        "id": "cY1Cd0l9yhMA"
      },
      "source": [
        "def free_search_test(query):\n",
        "  query = query_processor(query)\n",
        "  query_body = {\n",
        "    'query' :{\n",
        "        'multi_match' :{\n",
        "            'query' : str(query),\n",
        "            'type'  : \"cross_fields\",\n",
        "            'fields' : ['Title^2', 'Genre', 'Tags^2', 'Series or Movie^4', 'Director', 'Writer', 'Actors', 'Summary^3']\n",
        "          }\n",
        "      }\n",
        "  }\n",
        "  results = es.search(index='benchmark', body=query_body)['hits']['hits']\n",
        "  for hit in results:\n",
        "    print('Title: {} - Genre: {} - score: {}'.format(hit['_source']['Title'], hit['_source']['Genre'], hit['_score']))\n",
        "  return results"
      ],
      "execution_count": 127,
      "outputs": []
    },
    {
      "cell_type": "code",
      "metadata": {
        "id": "I3zSamIWy0e2",
        "colab": {
          "base_uri": "https://localhost:8080/"
        },
        "outputId": "0ab97b10-d704-434d-cf85-13918b551f4b"
      },
      "source": [
        "test_1 = free_search_test('An action movie about the end of the world')"
      ],
      "execution_count": 128,
      "outputs": [
        {
          "output_type": "stream",
          "text": [
            "Title: Billy Lynns Long Halftime Walk - Genre: ['action', 'drama', 'sport', 'thriller', 'war'] - score: 14.324874\n",
            "Title: Movie 43 - Genre: ['comedi'] - score: 13.959761\n",
            "Title: The Last Days of American Crime - Genre: ['action', 'crime', 'drama', 'sci-fi', 'thriller'] - score: 13.612794\n",
            "Title: Molang - Genre: ['anim', 'short', 'comedi', 'famili'] - score: 9.31041\n",
            "Title: Michael Boltons Big, Sexy Valentines Day Special - Genre: ['music'] - score: 9.31041\n",
            "Title: Aliens - Genre: ['action', 'adventur', 'sci-fi', 'thriller'] - score: 9.053455\n",
            "Title: World War Z - Genre: ['action', 'adventur', 'horror', 'sci-fi'] - score: 9.053455\n",
            "Title: Blood of Zeus - Genre: ['anim', 'action', 'fantasi'] - score: 8.810305\n",
            "Title: The Others - Genre: ['horror', 'mysteri', 'thriller'] - score: 8.579873\n",
            "Title: Jericho - Genre: ['action', 'drama', 'mysteri', 'sci-fi'] - score: 8.579873\n"
          ],
          "name": "stdout"
        }
      ]
    },
    {
      "cell_type": "code",
      "metadata": {
        "id": "yh0hOwHsymdc",
        "colab": {
          "base_uri": "https://localhost:8080/"
        },
        "outputId": "2d3c9bff-5e6f-4591-b62a-9892b3338405"
      },
      "source": [
        "test_2 = free_search_test('A comedy series about a group of friends')"
      ],
      "execution_count": 129,
      "outputs": [
        {
          "output_type": "stream",
          "text": [
            "Title: 10 Years - Genre: ['comedi', 'drama', 'romanc'] - score: 19.317524\n",
            "Title: Crocodile Dundee - Genre: ['action', 'adventur', 'comedi'] - score: 12.376177\n",
            "Title: ADAM SANDLER 100% FRESH - Genre: ['comedi', 'music'] - score: 11.379005\n",
            "Title: Interstellar - Genre: ['adventur', 'drama', 'sci-fi'] - score: 11.163675\n",
            "Title: Material - Genre: ['comedi', 'drama'] - score: 11.081389\n",
            "Title: Movie 43 - Genre: ['comedi'] - score: 10.798946\n",
            "Title: Strip Down, Rise Up - Genre: ['documentari'] - score: 10.547474\n",
            "Title: Fear City: New York vs The Mafia - Genre: ['documentari', 'crime'] - score: 9.995739\n",
            "Title: Alien Resurrection - Genre: ['action', 'horror', 'sci-fi'] - score: 9.995739\n",
            "Title: Monty Pythons Life of Brian - Genre: ['comedi'] - score: 9.995739\n"
          ],
          "name": "stdout"
        }
      ]
    },
    {
      "cell_type": "code",
      "metadata": {
        "id": "mNc7xceX0p5C",
        "colab": {
          "base_uri": "https://localhost:8080/"
        },
        "outputId": "61a8bd67-bce9-4bf1-c321-0ab1b393ae0b"
      },
      "source": [
        "test_3 = free_search_test('A series about a group of people saving the world')"
      ],
      "execution_count": 130,
      "outputs": [
        {
          "output_type": "stream",
          "text": [
            "Title: Devil - Genre: ['horror', 'mysteri', 'thriller'] - score: 21.770401\n",
            "Title: Blood of Zeus - Genre: ['anim', 'action', 'fantasi'] - score: 19.58095\n",
            "Title: The Confession Tapes - Genre: ['documentari', 'crime'] - score: 19.466915\n",
            "Title: Hell or High Water - Genre: ['action', 'crime', 'drama', 'thriller', 'western'] - score: 18.870735\n",
            "Title: Interstellar - Genre: ['adventur', 'drama', 'sci-fi'] - score: 11.163675\n",
            "Title: Dora and the Lost City of Gold - Genre: ['adventur', 'comedi', 'famili', 'mysteri'] - score: 11.067898\n",
            "Title: Strip Down, Rise Up - Genre: ['documentari'] - score: 10.547474\n",
            "Title: 10 Years - Genre: ['comedi', 'drama', 'romanc'] - score: 10.547474\n",
            "Title: Minimalism: A Documentary About the Important Things - Genre: ['documentari'] - score: 10.388374\n",
            "Title: Wonder Woman: Bloodlines - Genre: ['anim', 'action', 'fantasi'] - score: 10.221597\n"
          ],
          "name": "stdout"
        }
      ]
    },
    {
      "cell_type": "code",
      "metadata": {
        "id": "eWXJKMHA0r9t",
        "colab": {
          "base_uri": "https://localhost:8080/"
        },
        "outputId": "c2823fa9-22d5-4a40-8478-55a1e4a94385"
      },
      "source": [
        "test_4 = free_search_test('A movie about a family')"
      ],
      "execution_count": 131,
      "outputs": [
        {
          "output_type": "stream",
          "text": [
            "Title: Movie 43 - Genre: ['comedi'] - score: 13.959761\n",
            "Title: Arrested Development - Genre: ['comedi'] - score: 7.714793\n",
            "Title: Baxu and the Giants - Genre: ['short', 'drama', 'famili', 'fantasi'] - score: 7.495834\n",
            "Title: Lifes Speed Bump - Genre: ['horror', 'sci-fi', 'thriller'] - score: 7.495834\n",
            "Title: Aliens - Genre: ['action', 'adventur', 'sci-fi', 'thriller'] - score: 7.2889595\n",
            "Title: This Is Us - Genre: ['comedi', 'drama', 'romanc'] - score: 7.2889595\n",
            "Title: Life in Pieces - Genre: ['comedi'] - score: 7.2889595\n",
            "Title: Rumor Has It - Genre: ['comedi', 'drama', 'romanc'] - score: 7.2889595\n",
            "Title: The Russian Revolution - Genre: ['documentari', 'histori'] - score: 7.2889595\n",
            "Title: The Grudge 2 - Genre: ['horror', 'thriller'] - score: 7.2889595\n"
          ],
          "name": "stdout"
        }
      ]
    },
    {
      "cell_type": "code",
      "metadata": {
        "id": "q0RMcIoh0sjT",
        "colab": {
          "base_uri": "https://localhost:8080/"
        },
        "outputId": "b59e293f-3933-46ef-db62-936409ee2392"
      },
      "source": [
        "test_5 = free_search_test('Something about solving a mystery')"
      ],
      "execution_count": 132,
      "outputs": [
        {
          "output_type": "stream",
          "text": [
            "Title: Beyond the Edge - Genre: ['action', 'adventur', 'fantasi'] - score: 11.067898\n",
            "Title: The Grudge 2 - Genre: ['horror', 'thriller'] - score: 11.067898\n",
            "Title: The Disappointments Room - Genre: ['drama', 'horror', 'thriller'] - score: 10.770645\n",
            "Title: The Mist - Genre: ['drama', 'horror', 'sci-fi'] - score: 10.48894\n",
            "Title: Let Me In - Genre: ['drama', 'fantasi', 'horror', 'mysteri', 'thriller'] - score: 9.967542\n"
          ],
          "name": "stdout"
        }
      ]
    },
    {
      "cell_type": "code",
      "metadata": {
        "colab": {
          "base_uri": "https://localhost:8080/",
          "height": 204
        },
        "id": "F8PYz8bZG93g",
        "outputId": "54f42042-ce8f-4ab5-ed8a-70dd225feb27"
      },
      "source": [
        "relevance_scores = pd.read_csv(\"Benchmark_dataset_relevance.csv\")\n",
        "relevance_scores.head()"
      ],
      "execution_count": 133,
      "outputs": [
        {
          "output_type": "execute_result",
          "data": {
            "text/html": [
              "<div>\n",
              "<style scoped>\n",
              "    .dataframe tbody tr th:only-of-type {\n",
              "        vertical-align: middle;\n",
              "    }\n",
              "\n",
              "    .dataframe tbody tr th {\n",
              "        vertical-align: top;\n",
              "    }\n",
              "\n",
              "    .dataframe thead th {\n",
              "        text-align: right;\n",
              "    }\n",
              "</style>\n",
              "<table border=\"1\" class=\"dataframe\">\n",
              "  <thead>\n",
              "    <tr style=\"text-align: right;\">\n",
              "      <th></th>\n",
              "      <th>Title</th>\n",
              "      <th>Query_1</th>\n",
              "      <th>Query_2</th>\n",
              "      <th>Query_3</th>\n",
              "      <th>Query_4</th>\n",
              "      <th>Query_5</th>\n",
              "    </tr>\n",
              "  </thead>\n",
              "  <tbody>\n",
              "    <tr>\n",
              "      <th>0</th>\n",
              "      <td>The Missing</td>\n",
              "      <td>0</td>\n",
              "      <td>0</td>\n",
              "      <td>0</td>\n",
              "      <td>0</td>\n",
              "      <td>1</td>\n",
              "    </tr>\n",
              "    <tr>\n",
              "      <th>1</th>\n",
              "      <td>Asian Connection</td>\n",
              "      <td>0</td>\n",
              "      <td>0</td>\n",
              "      <td>0</td>\n",
              "      <td>1</td>\n",
              "      <td>0</td>\n",
              "    </tr>\n",
              "    <tr>\n",
              "      <th>2</th>\n",
              "      <td>Erased</td>\n",
              "      <td>0</td>\n",
              "      <td>0</td>\n",
              "      <td>0</td>\n",
              "      <td>0</td>\n",
              "      <td>1</td>\n",
              "    </tr>\n",
              "    <tr>\n",
              "      <th>3</th>\n",
              "      <td>The Front Runner</td>\n",
              "      <td>0</td>\n",
              "      <td>0</td>\n",
              "      <td>0</td>\n",
              "      <td>1</td>\n",
              "      <td>0</td>\n",
              "    </tr>\n",
              "    <tr>\n",
              "      <th>4</th>\n",
              "      <td>Rumor Has It</td>\n",
              "      <td>0</td>\n",
              "      <td>0</td>\n",
              "      <td>0</td>\n",
              "      <td>1</td>\n",
              "      <td>1</td>\n",
              "    </tr>\n",
              "  </tbody>\n",
              "</table>\n",
              "</div>"
            ],
            "text/plain": [
              "              Title  Query_1  Query_2  Query_3  Query_4  Query_5\n",
              "0       The Missing        0        0        0        0        1\n",
              "1  Asian Connection        0        0        0        1        0\n",
              "2            Erased        0        0        0        0        1\n",
              "3  The Front Runner        0        0        0        1        0\n",
              "4      Rumor Has It        0        0        0        1        1"
            ]
          },
          "metadata": {
            "tags": []
          },
          "execution_count": 133
        }
      ]
    },
    {
      "cell_type": "code",
      "metadata": {
        "colab": {
          "base_uri": "https://localhost:8080/"
        },
        "id": "j3h81Z4qEn45",
        "outputId": "1ec20542-0b85-434f-c601-8cb4992f42a8"
      },
      "source": [
        "# Extracting titles\n",
        "titles_1 = []\n",
        "titles_2 = []\n",
        "titles_3 = []\n",
        "titles_4 = []\n",
        "titles_5 = []\n",
        "for hit in test_1:\n",
        "  titles_1.append(hit['_source']['Title'])\n",
        "for hit in test_2:\n",
        "  titles_2.append(hit['_source']['Title'])\n",
        "for hit in test_3:\n",
        "  titles_3.append(hit['_source']['Title'])\n",
        "for hit in test_4:\n",
        "  titles_4.append(hit['_source']['Title'])\n",
        "for hit in test_5:\n",
        "  titles_5.append(hit['_source']['Title'])\n",
        "\n",
        "# Then calculating precision and recall\n",
        "true_pos = 0\n",
        "for i in relevance_scores[\"Title\"].loc[relevance_scores[\"Query_1\"] == 1]:\n",
        "  if i in titles_1:\n",
        "    true_pos += 1\n",
        "print(\"Query 1 precision is \" + str(true_pos/len(titles_1)))\n",
        "print(\"Query 1 recall is \" + str(true_pos/len(relevance_scores[\"Title\"].loc[relevance_scores[\"Query_1\"] == 1])))\n",
        "true_pos = 0\n",
        "for i in relevance_scores[\"Title\"].loc[relevance_scores[\"Query_2\"] == 1]:\n",
        "  if i in titles_2:\n",
        "    true_pos += 1\n",
        "print(\"Query 2 precision is \" + str(true_pos/len(titles_2)))\n",
        "print(\"Query 2 recall is \" + str(true_pos/len(relevance_scores[\"Title\"].loc[relevance_scores[\"Query_2\"] == 1])))\n",
        "true_pos = 0\n",
        "for i in relevance_scores[\"Title\"].loc[relevance_scores[\"Query_3\"] == 1]:\n",
        "  if i in titles_3:\n",
        "    true_pos += 1\n",
        "print(\"Query 3 precision is \" + str(true_pos/len(titles_3)))\n",
        "print(\"Query 3 recall is \" + str(true_pos/len(relevance_scores[\"Title\"].loc[relevance_scores[\"Query_3\"] == 1])))\n",
        "true_pos = 0\n",
        "for i in relevance_scores[\"Title\"].loc[relevance_scores[\"Query_4\"] == 1]:\n",
        "  if i in titles_4:\n",
        "    true_pos += 1\n",
        "print(\"Query 4 precision is \" + str(true_pos/len(titles_4)))\n",
        "print(\"Query 4 recall is \" + str(true_pos/len(relevance_scores[\"Title\"].loc[relevance_scores[\"Query_4\"] == 1])))\n",
        "true_pos = 0\n",
        "for i in relevance_scores[\"Title\"].loc[relevance_scores[\"Query_5\"] == 1]:\n",
        "  if i in titles_5:\n",
        "    true_pos += 1\n",
        "print(\"Query 5 precision is \" + str(true_pos/len(titles_5)))\n",
        "print(\"Query 5 recall is \" + str(true_pos/len(relevance_scores[\"Title\"].loc[relevance_scores[\"Query_5\"] == 1])))\n"
      ],
      "execution_count": 134,
      "outputs": [
        {
          "output_type": "stream",
          "text": [
            "Query 1 precision is 0.3\n",
            "Query 1 recall is 0.11538461538461539\n",
            "Query 2 precision is 0.1\n",
            "Query 2 recall is 0.058823529411764705\n",
            "Query 3 precision is 0.1\n",
            "Query 3 recall is 0.1111111111111111\n",
            "Query 4 precision is 0.1\n",
            "Query 4 recall is 0.022727272727272728\n",
            "Query 5 precision is 0.2\n",
            "Query 5 recall is 0.019230769230769232\n"
          ],
          "name": "stdout"
        }
      ]
    }
  ]
}